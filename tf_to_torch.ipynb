{
 "metadata": {
  "language_info": {
   "codemirror_mode": {
    "name": "ipython",
    "version": 3
   },
   "file_extension": ".py",
   "mimetype": "text/x-python",
   "name": "python",
   "nbconvert_exporter": "python",
   "pygments_lexer": "ipython3",
   "version": "3.6.5-final"
  },
  "orig_nbformat": 2,
  "kernelspec": {
   "name": "python3",
   "display_name": "Python 3.6.5 64-bit ('mopo': conda)",
   "metadata": {
    "interpreter": {
     "hash": "18472911cc68a54dabe9637f6507d1958261a6ce293fb4b8d7ce1a3678de3935"
    }
   }
  }
 },
 "nbformat": 4,
 "nbformat_minor": 2,
 "cells": [
  {
   "cell_type": "code",
   "execution_count": 49,
   "metadata": {},
   "outputs": [],
   "source": [
    "import torch\n",
    "import torch.nn as nn\n",
    "import torch.nn.functional as F\n",
    "\n",
    "from scipy.io import savemat, loadmat"
   ]
  },
  {
   "cell_type": "code",
   "execution_count": 59,
   "metadata": {},
   "outputs": [],
   "source": [
    "ensemble_size = 7\n",
    "\n",
    "params_dict = loadmat('../ray_mopo/halfcheetah/halfcheetah_medium_replay_101e3/seed:3316_2020-11-12_08-25-1462dxwsw1/models/BNN_0.mat')"
   ]
  },
  {
   "cell_type": "code",
   "execution_count": 60,
   "metadata": {},
   "outputs": [],
   "source": [
    "class BNN(nn.Module):\n",
    "    def __init__(self):\n",
    "        super().__init__()\n",
    "        self.fc1 = nn.Linear(23, 200, bias=True)\n",
    "        self.fc2 = nn.Linear(200, 200, bias=True)\n",
    "        self.fc3 = nn.Linear(200, 200, bias=True)\n",
    "        self.fc4 = nn.Linear(200, 200, bias=True)\n",
    "        self.var = nn.Linear(200, 18, bias=True)\n",
    "\n",
    "    def silu(self, x):\n",
    "        return x * F.sigmoid(x)\n",
    "    \n",
    "    def forward(self, x):\n",
    "        x = self.silu(self.fc1(x))\n",
    "        x = self.silu(self.fc2(x))\n",
    "        x = self.silu(self.fc3(x))\n",
    "        x = self.silu(self.fc4(x))\n",
    "        x = self.var(x)\n",
    "\n",
    "ensemble_models = [BNN() for i in range(7)]\n",
    "\n"
   ]
  },
  {
   "cell_type": "code",
   "execution_count": 61,
   "metadata": {},
   "outputs": [],
   "source": [
    "class EnsembledBNN(nn.Module):\n",
    "    def __init__(self, ensemble_size = 7):\n",
    "        super().__init__()\n",
    "        self.ensemble_size = ensemble_size\n",
    "        self.models = [BNN() for i in range(ensemble_size)]\n",
    "\n",
    "    # ../ray_mopo/halfcheetah/halfcheetah_medium_replay_101e3/seed:3316_2020-11-12_08-25-1462dxwsw1/models/BNN_0.mat\n",
    "    def load_weight(self, weight_path):\n",
    "        params_dict = loadmat(weight_path)\n",
    "\n",
    "        for i in range(ensemble_size):\n",
    "            self.models[i].fc1.weight.data = torch.from_numpy(params_dict['2'][i].transpose(1, 0))\n",
    "            self.models[i].fc1.bias.data = torch.from_numpy(params_dict['3'][i][0])\n",
    "\n",
    "            self.models[i].fc2.weight.data = torch.from_numpy(params_dict['4'][i].transpose(1, 0))\n",
    "            self.models[i].fc2.bias.data = torch.from_numpy(params_dict['5'][i][0])\n",
    "    \n",
    "            self.models[i].fc3.weight.data = torch.from_numpy(params_dict['6'][i].transpose(1, 0))\n",
    "            self.models[i].fc3.bias.data = torch.from_numpy(params_dict['7'][i][0])\n",
    "\n",
    "            self.models[i].fc4.weight.data = torch.from_numpy(params_dict['8'][i].transpose(1, 0))\n",
    "            self.models[i].fc4.bias.data = torch.from_numpy(params_dict['9'][i][0])\n",
    "\n",
    "            self.models[i].var.weight.data = torch.from_numpy(params_dict['10'][i].transpose(1, 0))\n",
    "            self.models[i].var.bias.data = torch.from_numpy(params_dict['11'][i][0])\n",
    "\n",
    "    def predict(self, inputs, factored=True):\n",
    "        outputs = []\n",
    "        for i in range(inputs.shape[0]):\n",
    "            output = self.models[i](inputs[i])\n",
    "            outputs.append(output)\n",
    "        return torch.stack(output, 0)"
   ]
  }
 ]
}